{
 "cells": [
  {
   "cell_type": "code",
   "execution_count": 1,
   "metadata": {
    "Collapsed": "false"
   },
   "outputs": [],
   "source": [
    "import pycbc\n",
    "import matplotlib\n",
    "%matplotlib inline"
   ]
  },
  {
   "cell_type": "code",
   "execution_count": 2,
   "metadata": {
    "Collapsed": "false"
   },
   "outputs": [
    {
     "name": "stderr",
     "output_type": "stream",
     "text": [
      "/cvmfs/oasis.opensciencegrid.org/ligo/sw/conda/envs/igwn-py37/lib/python3.7/site-packages/IPython/core/pylabtools.py:131: UserWarning: Creating legend with loc=\"best\" can be slow with large amounts of data.\n",
      "  fig.canvas.print_figure(bytes_io, **kw)\n"
     ]
    },
    {
     "data": {
      "image/png": "[encoded data removed]",
      "text/plain": [
       "<Figure size 432x288 with 1 Axes>"
      ]
     },
     "metadata": {
      "needs_background": "light"
     },
     "output_type": "display_data"
    }
   ],
   "source": [
    "import pylab\n",
    "from pycbc.waveform import get_td_waveform\n",
    "\n",
    "apx = 'SEOBNRv2'\n",
    "dist = 85.493584 \n",
    "phase = -2.0127285\n",
    "m1 = 1.5270051\n",
    "m2 = 1.2422962\n",
    "spin1z = -0.015901944\n",
    "spin2z = -0.035747342\n",
    "\n",
    "#help(get_td_waveform)\n",
    "\n",
    "hp, hc = get_td_waveform(approximant=apx,\n",
    "                                     mass1=m1,\n",
    "                                     mass2=m2,\n",
    "                                     spin1z=spin1z,\n",
    "                                     spin2z = spin2z,\n",
    "                                     delta_t=1.0/16384,\n",
    "                                     distance = dist,\n",
    "                                     f_lower=40\n",
    "                            )\n",
    "\n",
    "pylab.plot(hp.sample_times, hp, label=apx)\n",
    "\n",
    "pylab.ylabel('Strain')\n",
    "pylab.xlabel('Time (s)')\n",
    "pylab.legend()\n",
    "pylab.show()\n",
    "\n",
    "\n"
   ]
  },
  {
   "cell_type": "code",
   "execution_count": 3,
   "metadata": {
    "Collapsed": "false"
   },
   "outputs": [
    {
     "name": "stdout",
     "output_type": "stream",
     "text": [
      "[[-2.61085454e+01 -2.14744515e-23]\n",
      " [-2.61084843e+01 -2.14603120e-23]\n",
      " [-2.61084233e+01 -2.14411228e-23]\n",
      " ...\n",
      " [ 4.43071922e-03 -0.00000000e+00]\n",
      " [ 4.49175437e-03 -0.00000000e+00]\n",
      " [ 4.55278953e-03 -0.00000000e+00]]\n"
     ]
    }
   ],
   "source": [
    "# -- output to table\n",
    "import numpy as np\n",
    "\n",
    "data = np.array(list(zip(hp.sample_times, hp)))\n",
    "print(data)\n",
    "\n",
    "np.savetxt('waveform.txt',data)\n",
    "    "
   ]
  },
  {
   "cell_type": "code",
   "execution_count": 4,
   "metadata": {
    "Collapsed": "false"
   },
   "outputs": [
    {
     "data": {
      "text/plain": [
       "[<matplotlib.lines.Line2D at 0x7f2cfde7ce80>]"
      ]
     },
     "execution_count": 4,
     "metadata": {},
     "output_type": "execute_result"
    },
    {
     "data": {
      "image/png": "[encoded data removed]",
      "text/plain": [
       "<Figure size 432x288 with 1 Axes>"
      ]
     },
     "metadata": {
      "needs_background": "light"
     },
     "output_type": "display_data"
    }
   ],
   "source": [
    "time, strain = np.loadtxt('waveform.txt', unpack=True)\n",
    "\n",
    "pylab.plot(time, strain)"
   ]
  }
 ],
 "metadata": {
  "kernelspec": {
   "display_name": "igwn-py37",
   "language": "python",
   "name": "igwn-py37"
  },
  "language_info": {
   "codemirror_mode": {
    "name": "ipython",
    "version": 3
   },
   "file_extension": ".py",
   "mimetype": "text/x-python",
   "name": "python",
   "nbconvert_exporter": "python",
   "pygments_lexer": "ipython3",
   "version": "3.7.3"
  }
 },
 "nbformat": 4,
 "nbformat_minor": 4
}
